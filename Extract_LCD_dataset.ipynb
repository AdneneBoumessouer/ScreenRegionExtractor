{
 "cells": [
  {
   "cell_type": "code",
   "execution_count": 1,
   "metadata": {},
   "outputs": [],
   "source": [
    "import os\n",
    "import json\n",
    "import numpy as np\n",
    "from tqdm import tqdm\n",
    "from skimage import io, util, transform, draw, color, img_as_ubyte\n",
    "from preprocess import utils\n",
    "from extract_lcd import extract_display"
   ]
  },
  {
   "cell_type": "code",
   "execution_count": 2,
   "metadata": {},
   "outputs": [],
   "source": [
    "DEFAULT_IMAGE_SHAPE = (450, 800, 3)"
   ]
  },
  {
   "cell_type": "code",
   "execution_count": 3,
   "metadata": {},
   "outputs": [],
   "source": [
    "def segmentation2polygon(segmentation):\n",
    "    if segmentation.ndim == 2:\n",
    "        segmentation = np.array(segmentation[0])\n",
    "    elif segmentation.ndim == 1:\n",
    "        segmentation = np.array(segmentation)\n",
    "    else:\n",
    "        raise ValueError\n",
    "    yy = segmentation[0::2]\n",
    "    xx = segmentation[1::2]\n",
    "    polygon = np.c_[xx,yy]\n",
    "    return polygon\n",
    "\n",
    "    \n",
    "def iou_score(mask_true, mask_pred):\n",
    "    intersection = np.logical_and(mask_true, mask_pred)\n",
    "    union = np.logical_or(mask_true, mask_pred)\n",
    "    iou = np.sum(intersection) / np.sum(union)\n",
    "    return iou"
   ]
  },
  {
   "cell_type": "code",
   "execution_count": 4,
   "metadata": {},
   "outputs": [],
   "source": [
    "def calculate_iou(image_dir, path_annotation):\n",
    "    \n",
    "    img_names, iou_scores = [], []\n",
    "\n",
    "    with open(path_annotation) as file:\n",
    "        data = json.load(file)\n",
    "        \n",
    "    for img_info, img_annotation in tqdm(zip(data['images'], data['annotations']), desc=\"Progress\"):\n",
    "        # determine image path\n",
    "        img_name = img_info['file_name']\n",
    "        img_path = os.path.join(image_dir, img_name)    \n",
    "        \n",
    "        # read image\n",
    "        img = util.img_as_float64(io.imread(img_path))\n",
    "        _, mask_pred, _ = extract_display(img, shape=DEFAULT_IMAGE_SHAPE, plot=False)\n",
    "        \n",
    "        # retrieve polygon\n",
    "        segmentation = np.array(img_annotation['segmentation'])\n",
    "        polygon = segmentation2polygon(segmentation)\n",
    "        \n",
    "        # compute mask\n",
    "        mask_true = draw.polygon2mask(img.shape[0:2], polygon)\n",
    "        mask_true = transform.resize(mask_true, output_shape=DEFAULT_IMAGE_SHAPE[:2])\n",
    "        mask_true = utils.pad_binary_image(mask_true, dh=20, dw=20)\n",
    "        mask_true = mask_true.astype(np.uint8)\n",
    "        \n",
    "        img_iou = iou_score(mask_true, mask_pred)\n",
    "        # print(f'IoU = {img_iou}')\n",
    "        \n",
    "        img_names.append(img_name)\n",
    "        iou_scores.append(img_iou)\n",
    "    return img_names, iou_scores"
   ]
  },
  {
   "cell_type": "code",
   "execution_count": 5,
   "metadata": {},
   "outputs": [
    {
     "name": "stderr",
     "output_type": "stream",
     "text": [
      "Progress: 50it [12:16, 14.73s/it]\n"
     ]
    }
   ],
   "source": [
    "image_dir_1 = '/home/aboumessouer/Downloads/YUVA_EB_DATASET/RAW_IMAGES/1_Day_Light/'\n",
    "path_annotation_1 = 'annotations/annotations_01_daylight.json'\n",
    "img_names_1, iou_scores_1 = calculate_iou(image_dir_1, path_annotation_1)"
   ]
  },
  {
   "cell_type": "code",
   "execution_count": 7,
   "metadata": {},
   "outputs": [
    {
     "name": "stderr",
     "output_type": "stream",
     "text": [
      "Progress: 48it [10:53, 13.62s/it]\n"
     ]
    }
   ],
   "source": [
    "image_dir_2 = '/home/aboumessouer/Downloads/YUVA_EB_DATASET/RAW_IMAGES/2_Night/'\n",
    "path_annotation_2 = 'annotations/annotations_02_night.json'\n",
    "img_names_2, iou_scores_2 = calculate_iou(image_dir_2, path_annotation_2)"
   ]
  },
  {
   "cell_type": "code",
   "execution_count": 8,
   "metadata": {},
   "outputs": [
    {
     "name": "stderr",
     "output_type": "stream",
     "text": [
      "Progress: 50it [13:28, 16.17s/it]\n"
     ]
    }
   ],
   "source": [
    "image_dir_3 = '/home/aboumessouer/Downloads/YUVA_EB_DATASET/RAW_IMAGES/3_Tilted/'\n",
    "path_annotation_3 = 'annotations/annotations_03_tilted.json'\n",
    "img_names_3, iou_scores_3 = calculate_iou(image_dir_3, path_annotation_3)"
   ]
  },
  {
   "cell_type": "code",
   "execution_count": 9,
   "metadata": {},
   "outputs": [
    {
     "name": "stderr",
     "output_type": "stream",
     "text": [
      "Progress: 20it [05:21, 16.05s/it]\n"
     ]
    }
   ],
   "source": [
    "image_dir_4 = '/home/aboumessouer/Downloads/YUVA_EB_DATASET/RAW_IMAGES/4_Blurred/'\n",
    "path_annotation_4 = 'annotations/annotations_04_blurred.json'\n",
    "img_names_4, iou_scores_4 = calculate_iou(image_dir_4, path_annotation_4)"
   ]
  },
  {
   "cell_type": "code",
   "execution_count": 34,
   "metadata": {},
   "outputs": [],
   "source": [
    "categories = ['1_Day_Light']*len(img_names_1) + ['2_Night']*len(img_names_2) + ['3_Tilted']*len(img_names_3) + ['4_Blurred']*len(img_names_4)\n",
    "img_names = img_names_1 + img_names_2 + img_names_3 + img_names_4\n",
    "iou_scores = iou_scores_1 + iou_scores_2 + iou_scores_3 + iou_scores_4\n",
    "dict_results = {'img_name': img_names, 'category': categories, 'iou_score': iou_scores}"
   ]
  },
  {
   "cell_type": "code",
   "execution_count": 35,
   "metadata": {},
   "outputs": [],
   "source": [
    "import pandas as pd\n",
    "df_results = pd.DataFrame(data=dict_results)"
   ]
  },
  {
   "cell_type": "code",
   "execution_count": 36,
   "metadata": {},
   "outputs": [
    {
     "data": {
      "text/html": [
       "<div>\n",
       "<style scoped>\n",
       "    .dataframe tbody tr th:only-of-type {\n",
       "        vertical-align: middle;\n",
       "    }\n",
       "\n",
       "    .dataframe tbody tr th {\n",
       "        vertical-align: top;\n",
       "    }\n",
       "\n",
       "    .dataframe thead th {\n",
       "        text-align: right;\n",
       "    }\n",
       "</style>\n",
       "<table border=\"1\" class=\"dataframe\">\n",
       "  <thead>\n",
       "    <tr style=\"text-align: right;\">\n",
       "      <th></th>\n",
       "      <th>img_name</th>\n",
       "      <th>category</th>\n",
       "      <th>iou_score</th>\n",
       "    </tr>\n",
       "  </thead>\n",
       "  <tbody>\n",
       "    <tr>\n",
       "      <th>0</th>\n",
       "      <td>001.JPG</td>\n",
       "      <td>1_Day_Light</td>\n",
       "      <td>0.895251</td>\n",
       "    </tr>\n",
       "    <tr>\n",
       "      <th>1</th>\n",
       "      <td>002.JPG</td>\n",
       "      <td>1_Day_Light</td>\n",
       "      <td>0.960099</td>\n",
       "    </tr>\n",
       "    <tr>\n",
       "      <th>2</th>\n",
       "      <td>003.JPG</td>\n",
       "      <td>1_Day_Light</td>\n",
       "      <td>0.892853</td>\n",
       "    </tr>\n",
       "    <tr>\n",
       "      <th>3</th>\n",
       "      <td>004.JPG</td>\n",
       "      <td>1_Day_Light</td>\n",
       "      <td>0.841683</td>\n",
       "    </tr>\n",
       "    <tr>\n",
       "      <th>4</th>\n",
       "      <td>005.JPG</td>\n",
       "      <td>1_Day_Light</td>\n",
       "      <td>0.911559</td>\n",
       "    </tr>\n",
       "    <tr>\n",
       "      <th>...</th>\n",
       "      <td>...</td>\n",
       "      <td>...</td>\n",
       "      <td>...</td>\n",
       "    </tr>\n",
       "    <tr>\n",
       "      <th>163</th>\n",
       "      <td>165.JPG</td>\n",
       "      <td>4_Blurred</td>\n",
       "      <td>0.937832</td>\n",
       "    </tr>\n",
       "    <tr>\n",
       "      <th>164</th>\n",
       "      <td>166.JPG</td>\n",
       "      <td>4_Blurred</td>\n",
       "      <td>0.937056</td>\n",
       "    </tr>\n",
       "    <tr>\n",
       "      <th>165</th>\n",
       "      <td>167.JPG</td>\n",
       "      <td>4_Blurred</td>\n",
       "      <td>0.021171</td>\n",
       "    </tr>\n",
       "    <tr>\n",
       "      <th>166</th>\n",
       "      <td>168.JPG</td>\n",
       "      <td>4_Blurred</td>\n",
       "      <td>0.809365</td>\n",
       "    </tr>\n",
       "    <tr>\n",
       "      <th>167</th>\n",
       "      <td>169.JPG</td>\n",
       "      <td>4_Blurred</td>\n",
       "      <td>0.824914</td>\n",
       "    </tr>\n",
       "  </tbody>\n",
       "</table>\n",
       "<p>168 rows × 3 columns</p>\n",
       "</div>"
      ],
      "text/plain": [
       "    img_name     category  iou_score\n",
       "0    001.JPG  1_Day_Light   0.895251\n",
       "1    002.JPG  1_Day_Light   0.960099\n",
       "2    003.JPG  1_Day_Light   0.892853\n",
       "3    004.JPG  1_Day_Light   0.841683\n",
       "4    005.JPG  1_Day_Light   0.911559\n",
       "..       ...          ...        ...\n",
       "163  165.JPG    4_Blurred   0.937832\n",
       "164  166.JPG    4_Blurred   0.937056\n",
       "165  167.JPG    4_Blurred   0.021171\n",
       "166  168.JPG    4_Blurred   0.809365\n",
       "167  169.JPG    4_Blurred   0.824914\n",
       "\n",
       "[168 rows x 3 columns]"
      ]
     },
     "execution_count": 36,
     "metadata": {},
     "output_type": "execute_result"
    }
   ],
   "source": [
    "df_results"
   ]
  },
  {
   "cell_type": "code",
   "execution_count": 37,
   "metadata": {},
   "outputs": [],
   "source": [
    "df_results.to_csv('results.csv', header=True)"
   ]
  },
  {
   "cell_type": "code",
   "execution_count": 52,
   "metadata": {},
   "outputs": [],
   "source": [
    "latex_results = df_results.to_latex(index=False, float_format=\"%.2f\", longtable=True)\n",
    "# print(latex_results)"
   ]
  },
  {
   "cell_type": "code",
   "execution_count": 46,
   "metadata": {},
   "outputs": [
    {
     "data": {
      "text/html": [
       "<div>\n",
       "<style scoped>\n",
       "    .dataframe tbody tr th:only-of-type {\n",
       "        vertical-align: middle;\n",
       "    }\n",
       "\n",
       "    .dataframe tbody tr th {\n",
       "        vertical-align: top;\n",
       "    }\n",
       "\n",
       "    .dataframe thead tr th {\n",
       "        text-align: left;\n",
       "    }\n",
       "\n",
       "    .dataframe thead tr:last-of-type th {\n",
       "        text-align: right;\n",
       "    }\n",
       "</style>\n",
       "<table border=\"1\" class=\"dataframe\">\n",
       "  <thead>\n",
       "    <tr>\n",
       "      <th></th>\n",
       "      <th colspan=\"8\" halign=\"left\">iou_score</th>\n",
       "    </tr>\n",
       "    <tr>\n",
       "      <th></th>\n",
       "      <th>count</th>\n",
       "      <th>mean</th>\n",
       "      <th>std</th>\n",
       "      <th>min</th>\n",
       "      <th>25%</th>\n",
       "      <th>50%</th>\n",
       "      <th>75%</th>\n",
       "      <th>max</th>\n",
       "    </tr>\n",
       "    <tr>\n",
       "      <th>category</th>\n",
       "      <th></th>\n",
       "      <th></th>\n",
       "      <th></th>\n",
       "      <th></th>\n",
       "      <th></th>\n",
       "      <th></th>\n",
       "      <th></th>\n",
       "      <th></th>\n",
       "    </tr>\n",
       "  </thead>\n",
       "  <tbody>\n",
       "    <tr>\n",
       "      <th>1_Day_Light</th>\n",
       "      <td>50.0</td>\n",
       "      <td>0.899171</td>\n",
       "      <td>0.070703</td>\n",
       "      <td>0.490584</td>\n",
       "      <td>0.880680</td>\n",
       "      <td>0.908399</td>\n",
       "      <td>0.927447</td>\n",
       "      <td>0.979789</td>\n",
       "    </tr>\n",
       "    <tr>\n",
       "      <th>2_Night</th>\n",
       "      <td>48.0</td>\n",
       "      <td>0.914371</td>\n",
       "      <td>0.047579</td>\n",
       "      <td>0.733776</td>\n",
       "      <td>0.904953</td>\n",
       "      <td>0.924169</td>\n",
       "      <td>0.941920</td>\n",
       "      <td>0.989232</td>\n",
       "    </tr>\n",
       "    <tr>\n",
       "      <th>3_Tilted</th>\n",
       "      <td>50.0</td>\n",
       "      <td>0.894636</td>\n",
       "      <td>0.098656</td>\n",
       "      <td>0.448946</td>\n",
       "      <td>0.894125</td>\n",
       "      <td>0.918802</td>\n",
       "      <td>0.940237</td>\n",
       "      <td>0.966984</td>\n",
       "    </tr>\n",
       "    <tr>\n",
       "      <th>4_Blurred</th>\n",
       "      <td>20.0</td>\n",
       "      <td>0.847843</td>\n",
       "      <td>0.203574</td>\n",
       "      <td>0.021171</td>\n",
       "      <td>0.857917</td>\n",
       "      <td>0.911042</td>\n",
       "      <td>0.935889</td>\n",
       "      <td>0.951105</td>\n",
       "    </tr>\n",
       "  </tbody>\n",
       "</table>\n",
       "</div>"
      ],
      "text/plain": [
       "            iou_score                                                    \\\n",
       "                count      mean       std       min       25%       50%   \n",
       "category                                                                  \n",
       "1_Day_Light      50.0  0.899171  0.070703  0.490584  0.880680  0.908399   \n",
       "2_Night          48.0  0.914371  0.047579  0.733776  0.904953  0.924169   \n",
       "3_Tilted         50.0  0.894636  0.098656  0.448946  0.894125  0.918802   \n",
       "4_Blurred        20.0  0.847843  0.203574  0.021171  0.857917  0.911042   \n",
       "\n",
       "                                 \n",
       "                  75%       max  \n",
       "category                         \n",
       "1_Day_Light  0.927447  0.979789  \n",
       "2_Night      0.941920  0.989232  \n",
       "3_Tilted     0.940237  0.966984  \n",
       "4_Blurred    0.935889  0.951105  "
      ]
     },
     "execution_count": 46,
     "metadata": {},
     "output_type": "execute_result"
    }
   ],
   "source": [
    "# from statistics import mean\n",
    "# df_results.groupby(by='category').agg(\n",
    "#     {\n",
    "#          'iou_score':[mean, min, max],\n",
    "#     }\n",
    "# )\n",
    "\n",
    "df_summary = df_results.groupby(by='category').describe()\n",
    "df_summary"
   ]
  },
  {
   "cell_type": "code",
   "execution_count": 58,
   "metadata": {},
   "outputs": [],
   "source": [
    "# print(df_summary.to_latex(index=False, float_format=\"%.2f\", longtable=True, multicolumn=True))"
   ]
  },
  {
   "cell_type": "code",
   "execution_count": 56,
   "metadata": {},
   "outputs": [
    {
     "data": {
      "text/plain": [
       "<AxesSubplot:title={'center':'iou_score'}, xlabel='category'>"
      ]
     },
     "execution_count": 56,
     "metadata": {},
     "output_type": "execute_result"
    },
    {
     "data": {
      "image/png": "[encoded data removed]",
      "text/plain": [
       "<Figure size 720x432 with 1 Axes>"
      ]
     },
     "metadata": {
      "needs_background": "light"
     },
     "output_type": "display_data"
    }
   ],
   "source": [
    "df_results.boxplot(by='category', column='iou_score', figsize=(10,6))"
   ]
  },
  {
   "cell_type": "code",
   "execution_count": null,
   "metadata": {},
   "outputs": [],
   "source": []
  },
  {
   "cell_type": "code",
   "execution_count": null,
   "metadata": {},
   "outputs": [],
   "source": []
  }
 ],
 "metadata": {
  "interpreter": {
   "hash": "02f5630d1f84b678942898632511e95e6294d5141a13222a2ec8f25d72471916"
  },
  "kernelspec": {
   "display_name": "Python 3.9.7 ('bga2')",
   "language": "python",
   "name": "python3"
  },
  "language_info": {
   "codemirror_mode": {
    "name": "ipython",
    "version": 3
   },
   "file_extension": ".py",
   "mimetype": "text/x-python",
   "name": "python",
   "nbconvert_exporter": "python",
   "pygments_lexer": "ipython3",
   "version": "3.9.7"
  },
  "orig_nbformat": 4
 },
 "nbformat": 4,
 "nbformat_minor": 2
}
